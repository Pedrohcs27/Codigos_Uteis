{
 "cells": [
  {
   "cell_type": "code",
   "execution_count": 1,
   "id": "5bd397e0",
   "metadata": {},
   "outputs": [],
   "source": [
    "#Importação de Bibliotecas\n",
    "from pdf2image import convert_from_path\n",
    "import glob"
   ]
  },
  {
   "cell_type": "code",
   "execution_count": 2,
   "id": "d7344df0",
   "metadata": {},
   "outputs": [],
   "source": [
    "#Com a biblioteca 'glob' criar lista com o caminho  dos arquivos pdf. \n",
    "lista = []\n",
    "for x in sorted(glob.glob('dados/*.pdf')):\n",
    "    lista.append(x)"
   ]
  },
  {
   "cell_type": "code",
   "execution_count": 3,
   "id": "8c5db166",
   "metadata": {},
   "outputs": [
    {
     "data": {
      "text/plain": [
       "['dados/TAHLVEG/PDF\\\\ABRAAOZINHO.pdf',\n",
       " 'dados/TAHLVEG/PDF\\\\ARACATIBA.pdf',\n",
       " 'dados/TAHLVEG/PDF\\\\AVENTUREIRO_comfundo.pdf',\n",
       " 'dados/TAHLVEG/PDF\\\\BELEM_NOVO.pdf',\n",
       " 'dados/TAHLVEG/PDF\\\\BISCAIA_COMFUNDO.pdf',\n",
       " 'dados/TAHLVEG/PDF\\\\BRACUI_NOVO.pdf',\n",
       " 'dados/TAHLVEG/PDF\\\\CAETÉS.pdf',\n",
       " 'dados/TAHLVEG/PDF\\\\CENTRO.pdf',\n",
       " 'dados/TAHLVEG/PDF\\\\MARINAS.pdf',\n",
       " 'dados/TAHLVEG/PDF\\\\MONSUABA_COM_FUNDO.pdf',\n",
       " 'dados/TAHLVEG/PDF\\\\MONTE CASTELO.pdf',\n",
       " 'dados/TAHLVEG/PDF\\\\MORRO DA GLORIA II_com_fundo.pdf',\n",
       " 'dados/TAHLVEG/PDF\\\\MORRO DAS VELHAS.pdf',\n",
       " 'dados/TAHLVEG/PDF\\\\PARAISO_comfundo.pdf',\n",
       " 'dados/TAHLVEG/PDF\\\\PONTA LESTE_COM FUNDO.pdf',\n",
       " 'dados/TAHLVEG/PDF\\\\PRAIA VERMELHA_I_GRANDE.pdf',\n",
       " 'dados/TAHLVEG/PDF\\\\PROVETA.pdf',\n",
       " 'dados/TAHLVEG/PDF\\\\SANTABRACUI_COMFUNDO.pdf',\n",
       " 'dados/TAHLVEG/PDF\\\\VILA_DO_ABRAAO.pdf']"
      ]
     },
     "execution_count": 3,
     "metadata": {},
     "output_type": "execute_result"
    }
   ],
   "source": [
    "# Plote da lista de caminhos.\n",
    "lista"
   ]
  },
  {
   "cell_type": "code",
   "execution_count": 10,
   "id": "448d3c64",
   "metadata": {},
   "outputs": [],
   "source": [
    "#Conversão dos arquivos pdf para jpg.\n",
    "for i in lista:\n",
    "    img = convert_from_path(i, dpi=200)\n",
    "    for imgs in img:\n",
    "        imgs.save('dados/' + str(i[18:]) + '.jpg', 'JPEG')"
   ]
  },
  {
   "cell_type": "code",
   "execution_count": null,
   "id": "041dcfa6",
   "metadata": {},
   "outputs": [],
   "source": []
  }
 ],
 "metadata": {
  "hide_input": false,
  "kernelspec": {
   "display_name": "Python 3 (ipykernel)",
   "language": "python",
   "name": "python3"
  },
  "language_info": {
   "codemirror_mode": {
    "name": "ipython",
    "version": 3
   },
   "file_extension": ".py",
   "mimetype": "text/x-python",
   "name": "python",
   "nbconvert_exporter": "python",
   "pygments_lexer": "ipython3",
   "version": "3.8.12"
  }
 },
 "nbformat": 4,
 "nbformat_minor": 5
}
